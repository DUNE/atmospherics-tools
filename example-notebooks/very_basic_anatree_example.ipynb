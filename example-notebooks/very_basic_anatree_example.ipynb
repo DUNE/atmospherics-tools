{
 "cells": [
  {
   "cell_type": "code",
   "execution_count": 3,
   "metadata": {},
   "outputs": [],
   "source": [
    "%reload_ext autoreload\n",
    "%autoreload 2\n",
    "\n",
    "import os\n",
    "import sys\n",
    "parent = os.path.dirname(os.path.abspath(''))\n",
    "if not parent in sys.path:\n",
    "    sys.path.append(parent)\n",
    "from anatree.anatree_class import Anatree\n",
    "import polars as pl\n",
    "import matplotlib.pyplot as plt\n",
    "from math import pi\n",
    "from anatree.ana_tools import *\n",
    "import numpy as np\n",
    "from scipy.stats import binned_statistic, binned_statistic_2d\n",
    "from particle import Particle\n",
    "\n",
    "plt.rcParams.update({'font.size': 16})"
   ]
  },
  {
   "cell_type": "code",
   "execution_count": 7,
   "metadata": {},
   "outputs": [
    {
     "name": "stdout",
     "output_type": "stream",
     "text": [
      "Loading nu infos\n"
     ]
    },
    {
     "name": "stderr",
     "output_type": "stream",
     "text": [
      "100%|██████████| 37/37 [00:00<00:00, 370.12it/s]\n",
      "100%|██████████| 3/3 [00:00<00:00, 255.08it/s]\n"
     ]
    },
    {
     "name": "stdout",
     "output_type": "stream",
     "text": [
      "Loading geant infos\n"
     ]
    },
    {
     "name": "stderr",
     "output_type": "stream",
     "text": [
      "100%|██████████| 69/69 [00:00<00:00, 352.52it/s]\n"
     ]
    },
    {
     "name": "stdout",
     "output_type": "stream",
     "text": [
      "Loading track infos\n"
     ]
    },
    {
     "name": "stderr",
     "output_type": "stream",
     "text": [
      "100%|██████████| 48/48 [00:00<00:00, 273.25it/s]\n"
     ]
    },
    {
     "name": "stdout",
     "output_type": "stream",
     "text": [
      "Loading shower infos\n"
     ]
    },
    {
     "name": "stderr",
     "output_type": "stream",
     "text": [
      "100%|██████████| 19/19 [00:00<00:00, 242.48it/s]\n"
     ]
    },
    {
     "name": "stdout",
     "output_type": "stream",
     "text": [
      "Loading PFP infos\n"
     ]
    },
    {
     "name": "stderr",
     "output_type": "stream",
     "text": [
      "100%|██████████| 12/12 [00:00<00:00, 237.73it/s]\n"
     ]
    }
   ],
   "source": [
    "anatree = Anatree(\"/pnfs/dune/persistent/users/pgranger/anatree_new_prod/ana_tree_hd_9985.root\")"
   ]
  },
  {
   "cell_type": "code",
   "execution_count": 10,
   "metadata": {},
   "outputs": [
    {
     "data": {
      "text/html": [
       "<div><style>\n",
       ".dataframe > thead > tr,\n",
       ".dataframe > tbody > tr {\n",
       "  text-align: right;\n",
       "  white-space: pre-wrap;\n",
       "}\n",
       "</style>\n",
       "<small>shape: (100, 26)</small><table border=\"1\" class=\"dataframe\"><thead><tr><th>run</th><th>subrun</th><th>event</th><th>nuPDG_truth</th><th>ccnc_truth</th><th>nuvtxx_truth</th><th>nuvtxy_truth</th><th>nuvtxz_truth</th><th>enu_truth</th><th>nu_dcosx_truth</th><th>nu_dcosy_truth</th><th>nu_dcosz_truth</th><th>lep_mom_truth</th><th>lep_dcosx_truth</th><th>lep_dcosy_truth</th><th>lep_dcosz_truth</th><th>mode_truth</th><th>nuWeight_truth</th><th>Q2_truth</th><th>W_truth</th><th>X_truth</th><th>Y_truth</th><th>pot</th><th>nuvtxx</th><th>nuvtxy</th><th>nuvtxz</th></tr><tr><td>i32</td><td>i32</td><td>i32</td><td>i32</td><td>i32</td><td>f32</td><td>f32</td><td>f32</td><td>f32</td><td>f32</td><td>f32</td><td>f32</td><td>f32</td><td>f32</td><td>f32</td><td>f32</td><td>i32</td><td>f32</td><td>f32</td><td>f32</td><td>f32</td><td>f32</td><td>f64</td><td>f64</td><td>f64</td><td>f64</td></tr></thead><tbody><tr><td>74257901</td><td>1</td><td>37301</td><td>16</td><td>1</td><td>189.074905</td><td>391.651642</td><td>971.497986</td><td>0.404192</td><td>-0.974312</td><td>-0.224437</td><td>0.018875</td><td>0.201034</td><td>-0.471616</td><td>-0.424738</td><td>-0.772772</td><td>10</td><td>5.083642e7</td><td>0.074718</td><td>1.090114</td><td>0.195855</td><td>0.502628</td><td>-99999.0</td><td>188.999939</td><td>391.579468</td><td>971.729553</td></tr><tr><td>74257901</td><td>1</td><td>37302</td><td>14</td><td>0</td><td>-169.67244</td><td>89.491035</td><td>993.040161</td><td>0.9619</td><td>-0.512889</td><td>0.612213</td><td>-0.601787</td><td>0.877154</td><td>-0.751254</td><td>0.002954</td><td>-0.660007</td><td>0</td><td>4.1584396e7</td><td>0.365025</td><td>0.814724</td><td>2.479254</td><td>0.081511</td><td>-99999.0</td><td>-169.141968</td><td>89.649063</td><td>993.177063</td></tr><tr><td>74257901</td><td>1</td><td>37303</td><td>12</td><td>0</td><td>349.415558</td><td>196.321152</td><td>110.55912</td><td>0.199197</td><td>0.70029</td><td>-0.713825</td><td>0.00741</td><td>0.158416</td><td>0.76571</td><td>0.189367</td><td>0.614677</td><td>0</td><td>2.728728e7</td><td>0.037514</td><td>0.959496</td><td>0.489874</td><td>0.204725</td><td>-99999.0</td><td>349.712891</td><td>196.18486</td><td>110.466873</td></tr><tr><td>74257901</td><td>1</td><td>37304</td><td>16</td><td>0</td><td>-86.648773</td><td>-349.869568</td><td>1185.304321</td><td>6.229745</td><td>-0.527906</td><td>-0.842081</td><td>-0.110536</td><td>5.588196</td><td>-0.461339</td><td>-0.867479</td><td>-0.186138</td><td>0</td><td>3.3605856e7</td><td>0.653444</td><td>0.956633</td><td>0.951125</td><td>0.058728</td><td>-99999.0</td><td>-86.925934</td><td>-350.270996</td><td>1185.244507</td></tr><tr><td>74257901</td><td>1</td><td>37305</td><td>14</td><td>1</td><td>247.987534</td><td>-376.598969</td><td>1251.134521</td><td>0.884568</td><td>-0.346359</td><td>-0.187128</td><td>-0.919255</td><td>0.299985</td><td>0.230132</td><td>-0.139648</td><td>-0.963088</td><td>1</td><td>5.8351044e7</td><td>0.089303</td><td>1.374779</td><td>0.081351</td><td>0.660869</td><td>-99999.0</td><td>247.967163</td><td>-376.956207</td><td>1251.042114</td></tr><tr><td>&hellip;</td><td>&hellip;</td><td>&hellip;</td><td>&hellip;</td><td>&hellip;</td><td>&hellip;</td><td>&hellip;</td><td>&hellip;</td><td>&hellip;</td><td>&hellip;</td><td>&hellip;</td><td>&hellip;</td><td>&hellip;</td><td>&hellip;</td><td>&hellip;</td><td>&hellip;</td><td>&hellip;</td><td>&hellip;</td><td>&hellip;</td><td>&hellip;</td><td>&hellip;</td><td>&hellip;</td><td>&hellip;</td><td>&hellip;</td><td>&hellip;</td><td>&hellip;</td></tr><tr><td>74257901</td><td>1</td><td>37396</td><td>14</td><td>1</td><td>189.437943</td><td>100.093079</td><td>1123.268066</td><td>26.528118</td><td>0.391239</td><td>0.574965</td><td>0.718579</td><td>1.1818</td><td>0.733864</td><td>0.047115</td><td>0.67766</td><td>2</td><td>1.9581024e7</td><td>12.473527</td><td>6.000359</td><td>0.262069</td><td>0.955451</td><td>-99999.0</td><td>189.53476</td><td>100.081963</td><td>1123.195312</td></tr><tr><td>74257901</td><td>1</td><td>37397</td><td>14</td><td>1</td><td>85.354332</td><td>-184.970856</td><td>598.772766</td><td>4.177355</td><td>0.133397</td><td>0.461424</td><td>0.877099</td><td>1.275039</td><td>0.568618</td><td>0.376435</td><td>0.731417</td><td>2</td><td>4.3667684e7</td><td>1.160523</td><td>2.27401</td><td>0.212937</td><td>0.694774</td><td>-99999.0</td><td>83.307915</td><td>-178.94455</td><td>609.402771</td></tr><tr><td>74257901</td><td>1</td><td>37398</td><td>-12</td><td>1</td><td>-348.369141</td><td>-89.7043</td><td>471.265778</td><td>8.788091</td><td>0.19913</td><td>-0.508471</td><td>-0.837743</td><td>8.170972</td><td>0.25612</td><td>-0.537593</td><td>-0.803366</td><td>1</td><td>3.3092408e7</td><td>0.379035</td><td>1.288946</td><td>0.327079</td><td>0.070222</td><td>-99999.0</td><td>-348.285065</td><td>-89.726418</td><td>471.076569</td></tr><tr><td>74257901</td><td>1</td><td>37399</td><td>-14</td><td>1</td><td>291.671448</td><td>-554.056519</td><td>1232.632935</td><td>5.572244</td><td>0.451772</td><td>0.891745</td><td>-0.026377</td><td>4.459938</td><td>0.238952</td><td>0.963013</td><td>-0.124531</td><td>2</td><td>3.4391088e7</td><td>1.491269</td><td>1.216154</td><td>0.713959</td><td>0.199616</td><td>-99999.0</td><td>292.00293</td><td>-552.281433</td><td>1233.647827</td></tr><tr><td>74257901</td><td>1</td><td>37400</td><td>-16</td><td>1</td><td>-344.450897</td><td>-150.666473</td><td>396.985199</td><td>0.122789</td><td>0.999682</td><td>-0.020466</td><td>-0.01515</td><td>0.076591</td><td>0.675431</td><td>-0.679184</td><td>0.287233</td><td>0</td><td>5.3034844e7</td><td>0.005929</td><td>0.981016</td><td>0.068349</td><td>0.376241</td><td>-99999.0</td><td>-344.421753</td><td>-150.627396</td><td>396.65274</td></tr></tbody></table></div>"
      ],
      "text/plain": [
       "shape: (100, 26)\n",
       "┌──────────┬────────┬───────┬─────────────┬───┬──────────┬─────────────┬─────────────┬─────────────┐\n",
       "│ run      ┆ subrun ┆ event ┆ nuPDG_truth ┆ … ┆ pot      ┆ nuvtxx      ┆ nuvtxy      ┆ nuvtxz      │\n",
       "│ ---      ┆ ---    ┆ ---   ┆ ---         ┆   ┆ ---      ┆ ---         ┆ ---         ┆ ---         │\n",
       "│ i32      ┆ i32    ┆ i32   ┆ i32         ┆   ┆ f64      ┆ f64         ┆ f64         ┆ f64         │\n",
       "╞══════════╪════════╪═══════╪═════════════╪═══╪══════════╪═════════════╪═════════════╪═════════════╡\n",
       "│ 74257901 ┆ 1      ┆ 37301 ┆ 16          ┆ … ┆ -99999.0 ┆ 188.999939  ┆ 391.579468  ┆ 971.729553  │\n",
       "│ 74257901 ┆ 1      ┆ 37302 ┆ 14          ┆ … ┆ -99999.0 ┆ -169.141968 ┆ 89.649063   ┆ 993.177063  │\n",
       "│ 74257901 ┆ 1      ┆ 37303 ┆ 12          ┆ … ┆ -99999.0 ┆ 349.712891  ┆ 196.18486   ┆ 110.466873  │\n",
       "│ 74257901 ┆ 1      ┆ 37304 ┆ 16          ┆ … ┆ -99999.0 ┆ -86.925934  ┆ -350.270996 ┆ 1185.244507 │\n",
       "│ 74257901 ┆ 1      ┆ 37305 ┆ 14          ┆ … ┆ -99999.0 ┆ 247.967163  ┆ -376.956207 ┆ 1251.042114 │\n",
       "│ …        ┆ …      ┆ …     ┆ …           ┆ … ┆ …        ┆ …           ┆ …           ┆ …           │\n",
       "│ 74257901 ┆ 1      ┆ 37396 ┆ 14          ┆ … ┆ -99999.0 ┆ 189.53476   ┆ 100.081963  ┆ 1123.195312 │\n",
       "│ 74257901 ┆ 1      ┆ 37397 ┆ 14          ┆ … ┆ -99999.0 ┆ 83.307915   ┆ -178.94455  ┆ 609.402771  │\n",
       "│ 74257901 ┆ 1      ┆ 37398 ┆ -12         ┆ … ┆ -99999.0 ┆ -348.285065 ┆ -89.726418  ┆ 471.076569  │\n",
       "│ 74257901 ┆ 1      ┆ 37399 ┆ -14         ┆ … ┆ -99999.0 ┆ 292.00293   ┆ -552.281433 ┆ 1233.647827 │\n",
       "│ 74257901 ┆ 1      ┆ 37400 ┆ -16         ┆ … ┆ -99999.0 ┆ -344.421753 ┆ -150.627396 ┆ 396.65274   │\n",
       "└──────────┴────────┴───────┴─────────────┴───┴──────────┴─────────────┴─────────────┴─────────────┘"
      ]
     },
     "execution_count": 10,
     "metadata": {},
     "output_type": "execute_result"
    }
   ],
   "source": [
    "anatree.nu"
   ]
  },
  {
   "cell_type": "code",
   "execution_count": 11,
   "metadata": {},
   "outputs": [
    {
     "data": {
      "text/html": [
       "<div><style>\n",
       ".dataframe > thead > tr,\n",
       ".dataframe > tbody > tr {\n",
       "  text-align: right;\n",
       "  white-space: pre-wrap;\n",
       "}\n",
       "</style>\n",
       "<small>shape: (659, 72)</small><table border=\"1\" class=\"dataframe\"><thead><tr><th>run</th><th>subrun</th><th>event</th><th>pdg_geant</th><th>status_geant</th><th>Mass_geant</th><th>Eng_geant</th><th>EndE_geant</th><th>Px_geant</th><th>Py_geant</th><th>Pz_geant</th><th>P_geant</th><th>StartPointx_geant</th><th>StartPointy_geant</th><th>StartPointz_geant</th><th>StartT_geant</th><th>EndPointx_geant</th><th>EndPointy_geant</th><th>EndPointz_geant</th><th>EndT_geant</th><th>theta_geant</th><th>phi_geant</th><th>theta_xz_geant</th><th>theta_yz_geant</th><th>pathlen_geant</th><th>inTPCActive_geant</th><th>StartPointx_tpcAV_geant</th><th>StartPointy_tpcAV_geant</th><th>StartPointz_tpcAV_geant</th><th>StartT_tpcAV_geant</th><th>StartE_tpcAV_geant</th><th>StartP_tpcAV_geant</th><th>StartPx_tpcAV_geant</th><th>StartPy_tpcAV_geant</th><th>StartPz_tpcAV_geant</th><th>EndPointx_tpcAV_geant</th><th>EndPointy_tpcAV_geant</th><th>EndPointz_tpcAV_geant</th><th>EndT_tpcAV_geant</th><th>EndE_tpcAV_geant</th><th>EndP_tpcAV_geant</th><th>EndPx_tpcAV_geant</th><th>EndPy_tpcAV_geant</th><th>EndPz_tpcAV_geant</th><th>pathlen_drifted_geant</th><th>inTPCDrifted_geant</th><th>StartPointx_drifted_geant</th><th>StartPointy_drifted_geant</th><th>StartPointz_drifted_geant</th><th>StartT_drifted_geant</th><th>StartE_drifted_geant</th><th>StartP_drifted_geant</th><th>StartPx_drifted_geant</th><th>StartPy_drifted_geant</th><th>StartPz_drifted_geant</th><th>EndPointx_drifted_geant</th><th>EndPointy_drifted_geant</th><th>EndPointz_drifted_geant</th><th>EndT_drifted_geant</th><th>EndE_drifted_geant</th><th>EndP_drifted_geant</th><th>EndPx_drifted_geant</th><th>EndPy_drifted_geant</th><th>EndPz_drifted_geant</th><th>NumberDaughters_geant</th><th>Mother_geant</th><th>TrackId_geant</th><th>MergedId_geant</th><th>origin_geant</th><th>MCTruthIndex_geant</th><th>process_primary_geant</th><th>processname_geant</th></tr><tr><td>i32</td><td>i32</td><td>i32</td><td>i32</td><td>i32</td><td>f32</td><td>f32</td><td>f32</td><td>f32</td><td>f32</td><td>f32</td><td>f32</td><td>f32</td><td>f32</td><td>f32</td><td>f32</td><td>f32</td><td>f32</td><td>f32</td><td>f32</td><td>f32</td><td>f32</td><td>f32</td><td>f32</td><td>f32</td><td>i32</td><td>f32</td><td>f32</td><td>f32</td><td>f32</td><td>f32</td><td>f32</td><td>f32</td><td>f32</td><td>f32</td><td>f32</td><td>f32</td><td>f32</td><td>f32</td><td>f32</td><td>f32</td><td>f32</td><td>f32</td><td>f32</td><td>f32</td><td>i32</td><td>f32</td><td>f32</td><td>f32</td><td>f32</td><td>f32</td><td>f32</td><td>f32</td><td>f32</td><td>f32</td><td>f32</td><td>f32</td><td>f32</td><td>f32</td><td>f32</td><td>f32</td><td>f32</td><td>f32</td><td>f32</td><td>i32</td><td>i32</td><td>i32</td><td>i32</td><td>i32</td><td>i32</td><td>i32</td><td>str</td></tr></thead><tbody><tr><td>74257901</td><td>1</td><td>37301</td><td>16</td><td>1</td><td>0.0</td><td>0.201034</td><td>0.201034</td><td>-0.094811</td><td>-0.085387</td><td>-0.155353</td><td>0.201034</td><td>189.074905</td><td>391.651642</td><td>971.497986</td><td>0.0</td><td>-2938.506592</td><td>-2425.054443</td><td>-4153.240234</td><td>221.207428</td><td>2.453993</td><td>-2.408445</td><td>-2.593641</td><td>-2.639034</td><td>1171.400757</td><td>1</td><td>189.074905</td><td>391.651642</td><td>971.497986</td><td>0.0</td><td>0.201034</td><td>0.201034</td><td>-0.094811</td><td>-0.085387</td><td>-0.155353</td><td>-363.376038</td><td>-105.886787</td><td>66.27253</td><td>39.073723</td><td>0.201034</td><td>0.201034</td><td>-0.094811</td><td>-0.085387</td><td>-0.155353</td><td>1171.397827</td><td>1</td><td>189.074905</td><td>391.651642</td><td>971.497986</td><td>0.0</td><td>0.201034</td><td>0.201034</td><td>-0.094811</td><td>-0.085387</td><td>-0.155353</td><td>-363.369781</td><td>-105.886787</td><td>66.27253</td><td>0.0</td><td>0.201034</td><td>0.201034</td><td>-0.094811</td><td>-0.085387</td><td>-0.155353</td><td>0</td><td>0</td><td>1</td><td>0</td><td>1</td><td>0</td><td>1</td><td>&quot;primary&quot;</td></tr><tr><td>74257901</td><td>1</td><td>37301</td><td>2212</td><td>1</td><td>0.938272</td><td>0.950541</td><td>0.938272</td><td>-0.070422</td><td>-0.117861</td><td>-0.065748</td><td>0.152228</td><td>189.074905</td><td>391.651642</td><td>971.497986</td><td>0.0</td><td>188.988281</td><td>391.499664</td><td>971.41449</td><td>0.052393</td><td>2.017404</td><td>-2.109372</td><td>-2.32189</td><td>-2.079644</td><td>0.193868</td><td>1</td><td>189.074905</td><td>391.651642</td><td>971.497986</td><td>0.0</td><td>0.950541</td><td>0.152228</td><td>-0.070422</td><td>-0.117861</td><td>-0.065748</td><td>188.988281</td><td>391.499664</td><td>971.41449</td><td>0.052393</td><td>0.938272</td><td>0.0</td><td>-0.0</td><td>-0.0</td><td>-0.0</td><td>0.193864</td><td>1</td><td>189.074905</td><td>391.651642</td><td>971.497986</td><td>0.0</td><td>0.950541</td><td>0.152228</td><td>-0.070422</td><td>-0.117861</td><td>-0.065748</td><td>188.988281</td><td>391.499664</td><td>971.41449</td><td>0.0</td><td>0.938272</td><td>0.0</td><td>-0.0</td><td>-0.0</td><td>-0.0</td><td>0</td><td>0</td><td>2</td><td>0</td><td>1</td><td>0</td><td>1</td><td>&quot;primary&quot;</td></tr><tr><td>74257901</td><td>1</td><td>37301</td><td>2212</td><td>1</td><td>0.938272</td><td>0.949328</td><td>0.938272</td><td>0.048587</td><td>-0.08203</td><td>-0.108533</td><td>0.144461</td><td>189.074905</td><td>391.651642</td><td>971.497986</td><td>0.0</td><td>189.121582</td><td>391.560852</td><td>971.375549</td><td>0.044938</td><td>2.420816</td><td>-1.036057</td><td>2.720679</td><td>-2.494381</td><td>0.159431</td><td>1</td><td>189.074905</td><td>391.651642</td><td>971.497986</td><td>0.0</td><td>0.949328</td><td>0.144461</td><td>0.048587</td><td>-0.08203</td><td>-0.108533</td><td>189.121582</td><td>391.560852</td><td>971.375549</td><td>0.044938</td><td>0.938272</td><td>0.0</td><td>-0.0</td><td>0.0</td><td>-0.0</td><td>0.159433</td><td>1</td><td>189.074905</td><td>391.651642</td><td>971.497986</td><td>0.0</td><td>0.949328</td><td>0.144461</td><td>0.048587</td><td>-0.08203</td><td>-0.108533</td><td>189.121597</td><td>391.560852</td><td>971.375549</td><td>0.0</td><td>0.938272</td><td>0.0</td><td>-0.0</td><td>0.0</td><td>-0.0</td><td>0</td><td>0</td><td>3</td><td>0</td><td>1</td><td>0</td><td>1</td><td>&quot;primary&quot;</td></tr><tr><td>74257901</td><td>1</td><td>37301</td><td>2212</td><td>1</td><td>0.938272</td><td>0.938951</td><td>0.938272</td><td>0.009096</td><td>0.011458</td><td>-0.032559</td><td>0.035695</td><td>189.074905</td><td>391.651642</td><td>971.497986</td><td>0.0</td><td>189.075348</td><td>391.652222</td><td>971.496399</td><td>0.001535</td><td>2.719295</td><td>0.899826</td><td>2.869168</td><td>2.803204</td><td>0.001749</td><td>1</td><td>189.074905</td><td>391.651642</td><td>971.497986</td><td>0.0</td><td>0.938951</td><td>0.035695</td><td>0.009096</td><td>0.011458</td><td>-0.032559</td><td>189.075348</td><td>391.652222</td><td>971.496399</td><td>0.001535</td><td>0.938272</td><td>0.0</td><td>0.0</td><td>0.0</td><td>-0.0</td><td>0.001749</td><td>1</td><td>189.074905</td><td>391.651642</td><td>971.497986</td><td>0.0</td><td>0.938951</td><td>0.035695</td><td>0.009096</td><td>0.011458</td><td>-0.032559</td><td>189.075348</td><td>391.652222</td><td>971.496399</td><td>0.0</td><td>0.938272</td><td>0.0</td><td>0.0</td><td>0.0</td><td>-0.0</td><td>0</td><td>0</td><td>4</td><td>0</td><td>1</td><td>0</td><td>1</td><td>&quot;primary&quot;</td></tr><tr><td>74257901</td><td>1</td><td>37301</td><td>2212</td><td>1</td><td>0.938272</td><td>0.944602</td><td>0.938272</td><td>-0.080999</td><td>0.047072</td><td>0.05605</td><td>0.109171</td><td>189.074905</td><td>391.651642</td><td>971.497986</td><td>0.0</td><td>189.029099</td><td>391.679352</td><td>971.529968</td><td>0.022433</td><td>1.031634</td><td>2.615154</td><td>-0.96547</td><td>0.698554</td><td>0.062349</td><td>1</td><td>189.074905</td><td>391.651642</td><td>971.497986</td><td>0.0</td><td>0.944602</td><td>0.109171</td><td>-0.080999</td><td>0.047072</td><td>0.05605</td><td>189.029099</td><td>391.679352</td><td>971.529968</td><td>0.022433</td><td>0.938272</td><td>0.0</td><td>-0.0</td><td>0.0</td><td>0.0</td><td>0.062347</td><td>1</td><td>189.074905</td><td>391.651642</td><td>971.497986</td><td>0.0</td><td>0.944602</td><td>0.109171</td><td>-0.080999</td><td>0.047072</td><td>0.05605</td><td>189.029099</td><td>391.679352</td><td>971.529968</td><td>0.0</td><td>0.938272</td><td>0.0</td><td>-0.0</td><td>0.0</td><td>0.0</td><td>0</td><td>0</td><td>5</td><td>0</td><td>1</td><td>0</td><td>1</td><td>&quot;primary&quot;</td></tr><tr><td>&hellip;</td><td>&hellip;</td><td>&hellip;</td><td>&hellip;</td><td>&hellip;</td><td>&hellip;</td><td>&hellip;</td><td>&hellip;</td><td>&hellip;</td><td>&hellip;</td><td>&hellip;</td><td>&hellip;</td><td>&hellip;</td><td>&hellip;</td><td>&hellip;</td><td>&hellip;</td><td>&hellip;</td><td>&hellip;</td><td>&hellip;</td><td>&hellip;</td><td>&hellip;</td><td>&hellip;</td><td>&hellip;</td><td>&hellip;</td><td>&hellip;</td><td>&hellip;</td><td>&hellip;</td><td>&hellip;</td><td>&hellip;</td><td>&hellip;</td><td>&hellip;</td><td>&hellip;</td><td>&hellip;</td><td>&hellip;</td><td>&hellip;</td><td>&hellip;</td><td>&hellip;</td><td>&hellip;</td><td>&hellip;</td><td>&hellip;</td><td>&hellip;</td><td>&hellip;</td><td>&hellip;</td><td>&hellip;</td><td>&hellip;</td><td>&hellip;</td><td>&hellip;</td><td>&hellip;</td><td>&hellip;</td><td>&hellip;</td><td>&hellip;</td><td>&hellip;</td><td>&hellip;</td><td>&hellip;</td><td>&hellip;</td><td>&hellip;</td><td>&hellip;</td><td>&hellip;</td><td>&hellip;</td><td>&hellip;</td><td>&hellip;</td><td>&hellip;</td><td>&hellip;</td><td>&hellip;</td><td>&hellip;</td><td>&hellip;</td><td>&hellip;</td><td>&hellip;</td><td>&hellip;</td><td>&hellip;</td><td>&hellip;</td><td>&hellip;</td></tr><tr><td>74257901</td><td>1</td><td>37399</td><td>111</td><td>1</td><td>0.134977</td><td>0.355257</td><td>0.355257</td><td>0.317183</td><td>0.079118</td><td>-0.033528</td><td>0.328616</td><td>291.671448</td><td>-554.056519</td><td>1232.632935</td><td>0.0</td><td>291.671448</td><td>-554.056519</td><td>1232.632935</td><td>3.5539e-9</td><td>1.673002</td><td>0.244451</td><td>1.676111</td><td>1.971627</td><td>9.8554e-8</td><td>1</td><td>291.671448</td><td>-554.056519</td><td>1232.632935</td><td>0.0</td><td>0.355257</td><td>0.328616</td><td>0.317183</td><td>0.079118</td><td>-0.033528</td><td>291.671448</td><td>-554.056519</td><td>1232.632935</td><td>3.5539e-9</td><td>0.355257</td><td>0.328616</td><td>0.317183</td><td>0.079118</td><td>-0.033528</td><td>9.8555e-8</td><td>1</td><td>291.671448</td><td>-554.056519</td><td>1232.632935</td><td>0.0</td><td>0.355257</td><td>0.328616</td><td>0.317183</td><td>0.079118</td><td>-0.033528</td><td>291.671448</td><td>-554.056519</td><td>1232.632935</td><td>0.0</td><td>0.355257</td><td>0.328616</td><td>0.317183</td><td>0.079118</td><td>-0.033528</td><td>2</td><td>0</td><td>3</td><td>0</td><td>1</td><td>0</td><td>1</td><td>&quot;primary&quot;</td></tr><tr><td>74257901</td><td>1</td><td>37399</td><td>111</td><td>1</td><td>0.134977</td><td>0.222888</td><td>0.222888</td><td>0.151436</td><td>0.067637</td><td>0.062872</td><td>0.177371</td><td>291.671448</td><td>-554.056519</td><td>1232.632935</td><td>0.0</td><td>291.671448</td><td>-554.056519</td><td>1232.632935</td><td>1.0822e-7</td><td>1.208452</td><td>0.420055</td><td>1.177277</td><td>0.821891</td><td>0.000003</td><td>1</td><td>291.671448</td><td>-554.056519</td><td>1232.632935</td><td>0.0</td><td>0.222888</td><td>0.177371</td><td>0.151436</td><td>0.067637</td><td>0.062872</td><td>291.671448</td><td>-554.056519</td><td>1232.632935</td><td>1.0822e-7</td><td>0.222888</td><td>0.177371</td><td>0.151436</td><td>0.067637</td><td>0.062872</td><td>0.000003</td><td>1</td><td>291.671448</td><td>-554.056519</td><td>1232.632935</td><td>0.0</td><td>0.222888</td><td>0.177371</td><td>0.151436</td><td>0.067637</td><td>0.062872</td><td>291.671448</td><td>-554.056519</td><td>1232.632935</td><td>0.0</td><td>0.222888</td><td>0.177371</td><td>0.151436</td><td>0.067637</td><td>0.062872</td><td>2</td><td>0</td><td>4</td><td>0</td><td>1</td><td>0</td><td>1</td><td>&quot;primary&quot;</td></tr><tr><td>74257901</td><td>1</td><td>37400</td><td>-16</td><td>1</td><td>0.0</td><td>0.076591</td><td>0.076591</td><td>0.051732</td><td>-0.052019</td><td>0.021999</td><td>0.076591</td><td>-344.450897</td><td>-150.666473</td><td>396.985199</td><td>0.0</td><td>3392.965332</td><td>-3908.848633</td><td>1986.356934</td><td>184.573761</td><td>1.279459</td><td>-0.788169</td><td>1.168706</td><td>-1.170698</td><td>673.105591</td><td>1</td><td>-344.450897</td><td>-150.666473</td><td>396.985199</td><td>0.0</td><td>0.076591</td><td>0.076591</td><td>0.051732</td><td>-0.052019</td><td>0.021999</td><td>110.185295</td><td>-607.828735</td><td>590.323547</td><td>22.452385</td><td>0.076591</td><td>0.076591</td><td>0.051732</td><td>-0.052019</td><td>0.021999</td><td>673.108032</td><td>1</td><td>-344.450897</td><td>-150.666473</td><td>396.985199</td><td>0.0</td><td>0.076591</td><td>0.076591</td><td>0.051732</td><td>-0.052019</td><td>0.021999</td><td>110.188896</td><td>-607.828735</td><td>590.323547</td><td>0.0</td><td>0.076591</td><td>0.076591</td><td>0.051732</td><td>-0.052019</td><td>0.021999</td><td>0</td><td>0</td><td>1</td><td>0</td><td>1</td><td>0</td><td>1</td><td>&quot;primary&quot;</td></tr><tr><td>74257901</td><td>1</td><td>37400</td><td>2212</td><td>1</td><td>0.938272</td><td>0.954305</td><td>0.938272</td><td>0.099966</td><td>0.134824</td><td>0.046619</td><td>0.174196</td><td>-344.450897</td><td>-150.666473</td><td>396.985199</td><td>0.0</td><td>-344.28064</td><td>-150.430267</td><td>397.088654</td><td>0.073869</td><td>1.299867</td><td>0.932788</td><td>1.134426</td><td>1.237887</td><td>0.309047</td><td>1</td><td>-344.450897</td><td>-150.666473</td><td>396.985199</td><td>0.0</td><td>0.954305</td><td>0.174196</td><td>0.099966</td><td>0.134824</td><td>0.046619</td><td>-344.28064</td><td>-150.430267</td><td>397.088654</td><td>0.073869</td><td>0.938272</td><td>0.0</td><td>0.0</td><td>0.0</td><td>0.0</td><td>0.309053</td><td>1</td><td>-344.450897</td><td>-150.666473</td><td>396.985199</td><td>0.0</td><td>0.954305</td><td>0.174196</td><td>0.099966</td><td>0.134824</td><td>0.046619</td><td>-344.28064</td><td>-150.430267</td><td>397.088654</td><td>0.0</td><td>0.938272</td><td>0.0</td><td>0.0</td><td>0.0</td><td>0.0</td><td>0</td><td>0</td><td>2</td><td>0</td><td>1</td><td>0</td><td>1</td><td>&quot;primary&quot;</td></tr><tr><td>74257901</td><td>1</td><td>37400</td><td>2212</td><td>1</td><td>0.938272</td><td>0.962393</td><td>0.938272</td><td>-0.020228</td><td>0.186599</td><td>-0.103042</td><td>0.214117</td><td>-344.450897</td><td>-150.666473</td><td>396.985199</td><td>0.0</td><td>-344.544678</td><td>-150.142548</td><td>396.656342</td><td>0.125364</td><td>2.072869</td><td>1.678777</td><td>-2.947752</td><td>2.075337</td><td>0.625676</td><td>1</td><td>-344.450897</td><td>-150.666473</td><td>396.985199</td><td>0.0</td><td>0.962393</td><td>0.214117</td><td>-0.020228</td><td>0.186599</td><td>-0.103042</td><td>-344.544678</td><td>-150.142548</td><td>396.656342</td><td>0.125364</td><td>0.938272</td><td>0.0</td><td>-0.0</td><td>0.0</td><td>-0.0</td><td>0.625673</td><td>1</td><td>-344.450897</td><td>-150.666473</td><td>396.985199</td><td>0.0</td><td>0.962393</td><td>0.214117</td><td>-0.020228</td><td>0.186599</td><td>-0.103042</td><td>-344.544647</td><td>-150.142548</td><td>396.656342</td><td>0.0</td><td>0.938272</td><td>0.0</td><td>-0.0</td><td>0.0</td><td>-0.0</td><td>0</td><td>0</td><td>3</td><td>0</td><td>1</td><td>0</td><td>1</td><td>&quot;primary&quot;</td></tr></tbody></table></div>"
      ],
      "text/plain": [
       "shape: (659, 72)\n",
       "┌──────────┬────────┬───────┬───────────┬───┬─────────────┬─────────────┬─────────────┬────────────┐\n",
       "│ run      ┆ subrun ┆ event ┆ pdg_geant ┆ … ┆ origin_gean ┆ MCTruthInde ┆ process_pri ┆ processnam │\n",
       "│ ---      ┆ ---    ┆ ---   ┆ ---       ┆   ┆ t           ┆ x_geant     ┆ mary_geant  ┆ e_geant    │\n",
       "│ i32      ┆ i32    ┆ i32   ┆ i32       ┆   ┆ ---         ┆ ---         ┆ ---         ┆ ---        │\n",
       "│          ┆        ┆       ┆           ┆   ┆ i32         ┆ i32         ┆ i32         ┆ str        │\n",
       "╞══════════╪════════╪═══════╪═══════════╪═══╪═════════════╪═════════════╪═════════════╪════════════╡\n",
       "│ 74257901 ┆ 1      ┆ 37301 ┆ 16        ┆ … ┆ 1           ┆ 0           ┆ 1           ┆ primary    │\n",
       "│ 74257901 ┆ 1      ┆ 37301 ┆ 2212      ┆ … ┆ 1           ┆ 0           ┆ 1           ┆ primary    │\n",
       "│ 74257901 ┆ 1      ┆ 37301 ┆ 2212      ┆ … ┆ 1           ┆ 0           ┆ 1           ┆ primary    │\n",
       "│ 74257901 ┆ 1      ┆ 37301 ┆ 2212      ┆ … ┆ 1           ┆ 0           ┆ 1           ┆ primary    │\n",
       "│ 74257901 ┆ 1      ┆ 37301 ┆ 2212      ┆ … ┆ 1           ┆ 0           ┆ 1           ┆ primary    │\n",
       "│ …        ┆ …      ┆ …     ┆ …         ┆ … ┆ …           ┆ …           ┆ …           ┆ …          │\n",
       "│ 74257901 ┆ 1      ┆ 37399 ┆ 111       ┆ … ┆ 1           ┆ 0           ┆ 1           ┆ primary    │\n",
       "│ 74257901 ┆ 1      ┆ 37399 ┆ 111       ┆ … ┆ 1           ┆ 0           ┆ 1           ┆ primary    │\n",
       "│ 74257901 ┆ 1      ┆ 37400 ┆ -16       ┆ … ┆ 1           ┆ 0           ┆ 1           ┆ primary    │\n",
       "│ 74257901 ┆ 1      ┆ 37400 ┆ 2212      ┆ … ┆ 1           ┆ 0           ┆ 1           ┆ primary    │\n",
       "│ 74257901 ┆ 1      ┆ 37400 ┆ 2212      ┆ … ┆ 1           ┆ 0           ┆ 1           ┆ primary    │\n",
       "└──────────┴────────┴───────┴───────────┴───┴─────────────┴─────────────┴─────────────┴────────────┘"
      ]
     },
     "execution_count": 11,
     "metadata": {},
     "output_type": "execute_result"
    }
   ],
   "source": [
    "anatree.geant"
   ]
  },
  {
   "cell_type": "code",
   "execution_count": 15,
   "metadata": {},
   "outputs": [
    {
     "data": {
      "text/html": [
       "<div><style>\n",
       ".dataframe > thead > tr,\n",
       ".dataframe > tbody > tr {\n",
       "  text-align: right;\n",
       "  white-space: pre-wrap;\n",
       "}\n",
       "</style>\n",
       "<small>shape: (444, 15)</small><table border=\"1\" class=\"dataframe\"><thead><tr><th>run</th><th>subrun</th><th>event</th><th>pfp_selfID</th><th>pfp_isPrimary</th><th>pfp_numDaughters</th><th>pfp_parentID</th><th>pfp_vertexID</th><th>pfp_isShower</th><th>pfp_trackScore</th><th>pfp_isTrack</th><th>pfp_trackID</th><th>pfp_showerID</th><th>pfp_pdgCode</th><th>pfp_isNeutrino</th></tr><tr><td>i32</td><td>i32</td><td>i32</td><td>i16</td><td>i16</td><td>i16</td><td>i16</td><td>i16</td><td>i16</td><td>f32</td><td>i16</td><td>i16</td><td>i16</td><td>i32</td><td>i16</td></tr></thead><tbody><tr><td>74257901</td><td>1</td><td>37301</td><td>0</td><td>0</td><td>0</td><td>1</td><td>0</td><td>0</td><td>0.519538</td><td>1</td><td>0</td><td>-9999</td><td>13</td><td>0</td></tr><tr><td>74257901</td><td>1</td><td>37301</td><td>1</td><td>1</td><td>1</td><td>-1</td><td>1</td><td>0</td><td>-9999.0</td><td>0</td><td>-9999</td><td>-9999</td><td>14</td><td>1</td></tr><tr><td>74257901</td><td>1</td><td>37302</td><td>0</td><td>0</td><td>0</td><td>1</td><td>0</td><td>0</td><td>0.700245</td><td>1</td><td>0</td><td>-9999</td><td>13</td><td>0</td></tr><tr><td>74257901</td><td>1</td><td>37302</td><td>1</td><td>1</td><td>1</td><td>-1</td><td>1</td><td>0</td><td>-9999.0</td><td>0</td><td>-9999</td><td>-9999</td><td>14</td><td>1</td></tr><tr><td>74257901</td><td>1</td><td>37303</td><td>0</td><td>0</td><td>0</td><td>1</td><td>0</td><td>1</td><td>0.468598</td><td>0</td><td>0</td><td>-999</td><td>11</td><td>0</td></tr><tr><td>&hellip;</td><td>&hellip;</td><td>&hellip;</td><td>&hellip;</td><td>&hellip;</td><td>&hellip;</td><td>&hellip;</td><td>&hellip;</td><td>&hellip;</td><td>&hellip;</td><td>&hellip;</td><td>&hellip;</td><td>&hellip;</td><td>&hellip;</td><td>&hellip;</td></tr><tr><td>74257901</td><td>1</td><td>37399</td><td>1</td><td>0</td><td>0</td><td>3</td><td>1</td><td>1</td><td>0.431766</td><td>0</td><td>1</td><td>-999</td><td>11</td><td>0</td></tr><tr><td>74257901</td><td>1</td><td>37399</td><td>2</td><td>0</td><td>0</td><td>3</td><td>2</td><td>0</td><td>0.564717</td><td>1</td><td>2</td><td>-9999</td><td>13</td><td>0</td></tr><tr><td>74257901</td><td>1</td><td>37399</td><td>3</td><td>1</td><td>3</td><td>-1</td><td>3</td><td>0</td><td>-9999.0</td><td>0</td><td>-9999</td><td>-9999</td><td>12</td><td>1</td></tr><tr><td>74257901</td><td>1</td><td>37400</td><td>0</td><td>0</td><td>0</td><td>1</td><td>-9999</td><td>0</td><td>-1.0</td><td>1</td><td>-9999</td><td>-9999</td><td>13</td><td>0</td></tr><tr><td>74257901</td><td>1</td><td>37400</td><td>1</td><td>1</td><td>1</td><td>-1</td><td>0</td><td>0</td><td>-9999.0</td><td>0</td><td>-9999</td><td>-9999</td><td>14</td><td>1</td></tr></tbody></table></div>"
      ],
      "text/plain": [
       "shape: (444, 15)\n",
       "┌──────────┬────────┬───────┬────────────┬───┬─────────────┬─────────────┬────────────┬────────────┐\n",
       "│ run      ┆ subrun ┆ event ┆ pfp_selfID ┆ … ┆ pfp_trackID ┆ pfp_showerI ┆ pfp_pdgCod ┆ pfp_isNeut │\n",
       "│ ---      ┆ ---    ┆ ---   ┆ ---        ┆   ┆ ---         ┆ D           ┆ e          ┆ rino       │\n",
       "│ i32      ┆ i32    ┆ i32   ┆ i16        ┆   ┆ i16         ┆ ---         ┆ ---        ┆ ---        │\n",
       "│          ┆        ┆       ┆            ┆   ┆             ┆ i16         ┆ i32        ┆ i16        │\n",
       "╞══════════╪════════╪═══════╪════════════╪═══╪═════════════╪═════════════╪════════════╪════════════╡\n",
       "│ 74257901 ┆ 1      ┆ 37301 ┆ 0          ┆ … ┆ 0           ┆ -9999       ┆ 13         ┆ 0          │\n",
       "│ 74257901 ┆ 1      ┆ 37301 ┆ 1          ┆ … ┆ -9999       ┆ -9999       ┆ 14         ┆ 1          │\n",
       "│ 74257901 ┆ 1      ┆ 37302 ┆ 0          ┆ … ┆ 0           ┆ -9999       ┆ 13         ┆ 0          │\n",
       "│ 74257901 ┆ 1      ┆ 37302 ┆ 1          ┆ … ┆ -9999       ┆ -9999       ┆ 14         ┆ 1          │\n",
       "│ 74257901 ┆ 1      ┆ 37303 ┆ 0          ┆ … ┆ 0           ┆ -999        ┆ 11         ┆ 0          │\n",
       "│ …        ┆ …      ┆ …     ┆ …          ┆ … ┆ …           ┆ …           ┆ …          ┆ …          │\n",
       "│ 74257901 ┆ 1      ┆ 37399 ┆ 1          ┆ … ┆ 1           ┆ -999        ┆ 11         ┆ 0          │\n",
       "│ 74257901 ┆ 1      ┆ 37399 ┆ 2          ┆ … ┆ 2           ┆ -9999       ┆ 13         ┆ 0          │\n",
       "│ 74257901 ┆ 1      ┆ 37399 ┆ 3          ┆ … ┆ -9999       ┆ -9999       ┆ 12         ┆ 1          │\n",
       "│ 74257901 ┆ 1      ┆ 37400 ┆ 0          ┆ … ┆ -9999       ┆ -9999       ┆ 13         ┆ 0          │\n",
       "│ 74257901 ┆ 1      ┆ 37400 ┆ 1          ┆ … ┆ -9999       ┆ -9999       ┆ 14         ┆ 1          │\n",
       "└──────────┴────────┴───────┴────────────┴───┴─────────────┴─────────────┴────────────┴────────────┘"
      ]
     },
     "execution_count": 15,
     "metadata": {},
     "output_type": "execute_result"
    }
   ],
   "source": [
    "anatree.pfp"
   ]
  },
  {
   "cell_type": "code",
   "execution_count": 22,
   "metadata": {},
   "outputs": [
    {
     "name": "stdout",
     "output_type": "stream",
     "text": [
      "-321 -> 2\n",
      "-211 -> 36\n",
      "-16 -> 8\n",
      "-14 -> 7\n",
      "-13 -> 2\n",
      "-12 -> 1\n",
      "-11 -> 4\n",
      "11 -> 29\n",
      "12 -> 10\n",
      "13 -> 22\n",
      "14 -> 9\n",
      "16 -> 10\n",
      "22 -> 36\n",
      "111 -> 42\n",
      "211 -> 41\n",
      "321 -> 3\n",
      "2112 -> 190\n",
      "2212 -> 206\n",
      "3122 -> 1\n"
     ]
    }
   ],
   "source": [
    "pdg, count = np.unique(anatree.geant['pdg_geant'], return_counts=True)\n",
    "for p, c in zip(pdg, count):\n",
    "    print(p, \"->\", c)"
   ]
  }
 ],
 "metadata": {
  "kernelspec": {
   "display_name": "Python 3",
   "language": "python",
   "name": "python3"
  },
  "language_info": {
   "codemirror_mode": {
    "name": "ipython",
    "version": 3
   },
   "file_extension": ".py",
   "mimetype": "text/x-python",
   "name": "python",
   "nbconvert_exporter": "python",
   "pygments_lexer": "ipython3",
   "version": "3.9.18"
  },
  "orig_nbformat": 4
 },
 "nbformat": 4,
 "nbformat_minor": 2
}
